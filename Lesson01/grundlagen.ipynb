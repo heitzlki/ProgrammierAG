{
 "cells": [
  {
   "cell_type": "markdown",
   "metadata": {},
   "source": [
    "## Aufgabe 1: print\n",
    "\n",
    "- Gebe in der Konsole \"Hello World!\" aus\n"
   ]
  },
  {
   "cell_type": "code",
   "execution_count": 1,
   "metadata": {},
   "outputs": [
    {
     "name": "stdout",
     "output_type": "stream",
     "text": [
      "Hello World!\n"
     ]
    }
   ],
   "source": [
    "print(\"Hello World!\")"
   ]
  },
  {
   "cell_type": "markdown",
   "metadata": {},
   "source": [
    "## Aufgabe 2: variablen\n",
    "\n",
    "- Setze eine variable vom typ int und gebe sie in der Konsole aus. (z.B dein Alter)\n",
    "- Setze eine variable vom typ string und gebe sie in der Konsole aus. (z.B dein Name)\n",
    "- Setze eine liste und gebe sie in der Konsole aus (z.B deine Lieblingsgerichte)\n",
    "- Gebe folgende Ausgabe aus: Ich heiße [name] und bin [alter] Jahre alt und esse am liebsten [lieblingsgerichte]\n"
   ]
  },
  {
   "cell_type": "code",
   "execution_count": 2,
   "metadata": {},
   "outputs": [
    {
     "name": "stdout",
     "output_type": "stream",
     "text": [
      "Ich heiße John und bin 17 Jahre alt und esse am liebsten ['pizza', 'chicken nuggets', 'mc flurry'] .\n"
     ]
    }
   ],
   "source": [
    "alter = 17\n",
    "name = \"John\"\n",
    "essen = [\"pizza\", \"chicken nuggets\", \"mc flurry\"]\n",
    "\n",
    "print(\"Ich heiße\", name, \"und bin\", alter, \"Jahre alt und esse am liebsten\", essen, \".\")"
   ]
  },
  {
   "cell_type": "markdown",
   "metadata": {},
   "source": [
    "## Aufgabe 3: schleifen\n",
    "\n",
    "- Gebe in der Konsole deine Lieblingsgerichte aus.\n",
    "- Gebe deine Lieblingsgerichte in einer Zeile in der Konsole aus\n"
   ]
  },
  {
   "cell_type": "code",
   "execution_count": 3,
   "metadata": {},
   "outputs": [
    {
     "name": "stdout",
     "output_type": "stream",
     "text": [
      "pizza\n",
      "chicken nuggets\n",
      "mc flurry\n",
      "0\n",
      "pizza\n",
      "1\n",
      "chicken nuggets\n",
      "2\n",
      "mc flurry\n",
      "0\n",
      "pizza\n",
      "1\n",
      "chicken nuggets\n",
      "2\n",
      "mc flurry\n",
      "pizza, chicken nuggets, mc flurry, \n"
     ]
    }
   ],
   "source": [
    "for gericht in essen:\n",
    "    print(gericht)\n",
    "\n",
    "for i in range(len(essen)):\n",
    "    print(i)\n",
    "    print(essen[i])\n",
    "\n",
    "i = 0\n",
    "while i < len(essen):\n",
    "    print(i)\n",
    "    print(essen[i])\n",
    "    i = i + 1\n",
    "\n",
    "essen_string = \"\"\n",
    "for gericht in essen:\n",
    "    essen_string = essen_string + gericht + \", \"\n",
    "\n",
    "print(essen_string)"
   ]
  },
  {
   "cell_type": "markdown",
   "metadata": {},
   "source": [
    "## Aufgabe 4: if / else\n",
    "\n",
    "- Setze eine Variable fürs Alter und prüfe, ob eine Person alt genug für Alkohol ist\n"
   ]
  },
  {
   "cell_type": "code",
   "execution_count": 8,
   "metadata": {},
   "outputs": [
    {
     "name": "stdout",
     "output_type": "stream",
     "text": [
      "Du darfst keinen Alkohol trinken.\n"
     ]
    }
   ],
   "source": [
    "alter = 15\n",
    "\n",
    "if alter >= 18:\n",
    "    print(\"Du darfst jeden Alkohol trinken.\")\n",
    "elif alter >= 16:\n",
    "    print(\"Du darfst Bier und Wein trinken.\")\n",
    "else:\n",
    "    print(\"Du darfst keinen Alkohol trinken.\")"
   ]
  },
  {
   "cell_type": "markdown",
   "metadata": {},
   "source": [
    "## Aufgabe 5: funktionen\n",
    "\n",
    "- Erstelle eine Funktion, die dein Alter mit einer zahl addiert und dann ausgibt.\n",
    "- Erstelle eine Funktion, die deinen Namen so oft ausgibt, wie du Jahre alt bist.\n"
   ]
  },
  {
   "cell_type": "code",
   "execution_count": 9,
   "metadata": {},
   "outputs": [
    {
     "name": "stdout",
     "output_type": "stream",
     "text": [
      "18\n",
      "19\n"
     ]
    }
   ],
   "source": [
    "def alter_plus_zahl_print(alter, zahl):\n",
    "    print(alter + zahl)\n",
    "\n",
    "\n",
    "alter_plus_zahl_print(alter, 3)\n",
    "\n",
    "\n",
    "def alter_plus_zahl_return(alter, zahl):\n",
    "    return alter + zahl\n",
    "\n",
    "\n",
    "print(alter_plus_zahl_return(alter, 4))"
   ]
  },
  {
   "cell_type": "markdown",
   "metadata": {},
   "source": [
    "## Aufgabe 6: user input\n",
    "\n",
    "- Erstelle eine Funktion, die deine Daten aufnimmt (alter, name, essen) und dies dann in der Konsole ausgibt.\n"
   ]
  },
  {
   "cell_type": "code",
   "execution_count": 11,
   "metadata": {},
   "outputs": [
    {
     "name": "stdout",
     "output_type": "stream",
     "text": [
      "Ich heiße  und bin  Jahre alt und esse am liebsten  .\n"
     ]
    }
   ],
   "source": [
    "def eingabe():\n",
    "    alter = input(\"Alter: \")\n",
    "    name = input(\"Name: \")\n",
    "    essen = input(\"Lieblingsgerichte: \")\n",
    "\n",
    "    print(\n",
    "        \"Ich heiße\",\n",
    "        name,\n",
    "        \"und bin\",\n",
    "        alter,\n",
    "        \"Jahre alt und esse am liebsten\",\n",
    "        essen,\n",
    "        \".\",\n",
    "    )\n",
    "\n",
    "\n",
    "eingabe()"
   ]
  },
  {
   "cell_type": "markdown",
   "metadata": {},
   "source": [
    "## Aufgabe 7: try / except\n",
    "\n",
    "- Modifiziere die Eingabe so, dass der Nutzer keinen Quatsch eingeben kann\n"
   ]
  },
  {
   "cell_type": "code",
   "execution_count": 12,
   "metadata": {},
   "outputs": [
    {
     "name": "stdout",
     "output_type": "stream",
     "text": [
      "Bitte gib eine Zahl ein.\n"
     ]
    }
   ],
   "source": [
    "def eingabe():\n",
    "    try:\n",
    "        alter = int(input(\"Alter: \"))\n",
    "    except:\n",
    "        print(\"Bitte gib eine Zahl ein.\")\n",
    "        return None\n",
    "\n",
    "    try:\n",
    "        name = str(input(\"Name: \"))\n",
    "        if name == \"\":\n",
    "            raise ValueError\n",
    "    except:\n",
    "        print(\"Bitte gib einen Namen ein.\")\n",
    "        return None\n",
    "\n",
    "    try:\n",
    "        essen = str(input(\"Lieblingsgerichte: \"))\n",
    "        if essen == \"\":\n",
    "            raise ValueError\n",
    "    except:\n",
    "        print(\"Bitte gib ein Lieblingsgericht ein.\")\n",
    "        return None\n",
    "\n",
    "    print(\n",
    "        \"Ich heiße\",\n",
    "        name,\n",
    "        \"und bin\",\n",
    "        alter,\n",
    "        \"Jahre alt und esse am liebsten\",\n",
    "        essen,\n",
    "        \".\",\n",
    "    )\n",
    "\n",
    "\n",
    "eingabe()"
   ]
  }
 ],
 "metadata": {
  "kernelspec": {
   "display_name": "python-virtual-env",
   "language": "python",
   "name": "python3"
  },
  "language_info": {
   "codemirror_mode": {
    "name": "ipython",
    "version": 3
   },
   "file_extension": ".py",
   "mimetype": "text/x-python",
   "name": "python",
   "nbconvert_exporter": "python",
   "pygments_lexer": "ipython3",
   "version": "3.11.2"
  }
 },
 "nbformat": 4,
 "nbformat_minor": 2
}
